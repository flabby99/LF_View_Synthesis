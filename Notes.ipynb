{
 "cells": [
  {
   "cell_type": "markdown",
   "metadata": {
    "deletable": true,
    "editable": true
   },
   "source": [
    "# This is a notebook for notes on jupyter.\n",
    "* There is a good list of extensions at https://github.com/ipython-contrib/jupyter_contrib_nbextensions\n",
    "* This site lists some interesting things https://www.dataquest.io/blog/jupyter-notebook-tips-tricks-shortcuts/\n",
    "* There is magic commands available which can be of use, such as matplotlib inline\n",
    "* The list of shorcuts can be found by the palette - ctrl + shift + f\n",
    "* The Ipython config file is generally located at .ipython/profile_default/ipython_config.py - can be used to change some notebook properties on start up\n",
    "* Not directly related to the notebooks, but there is a handy package called isort which sorts imports alphabetically which can be added\n",
    "* Comment with Crtl + /\n",
    "\n",
    "## How to set up a kernel for use, using a virtualenv:\n",
    "1. Create a virtualenv - virtualenv -p PYTHON_PATH ENV_PATH\n",
    "2. Activate the environment - source ENV_PATH/bin/activate\n",
    "3. Install juptyer in the virtualenv - pip install ipykernel\n",
    "4. Install a new kernel - ipython kernel install -user -name=KERNEL_NAME\n",
    "5. Then inside of a jupyter notebook the kernel can be set to KERNEL_NAME"
   ]
  },
  {
   "cell_type": "code",
   "execution_count": null,
   "metadata": {
    "collapsed": true,
    "deletable": true,
    "editable": true
   },
   "outputs": [],
   "source": []
  }
 ],
 "metadata": {
  "kernelspec": {
   "display_name": "Python 3",
   "language": "python",
   "name": "python3"
  },
  "language_info": {
   "codemirror_mode": {
    "name": "ipython",
    "version": 3
   },
   "file_extension": ".py",
   "mimetype": "text/x-python",
   "name": "python",
   "nbconvert_exporter": "python",
   "pygments_lexer": "ipython3",
   "version": "3.6.0"
  }
 },
 "nbformat": 4,
 "nbformat_minor": 2
}
