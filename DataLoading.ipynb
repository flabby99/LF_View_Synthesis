{
 "cells": [
  {
   "cell_type": "code",
   "execution_count": null,
   "metadata": {},
   "outputs": [],
   "source": [
    "#Import all relevant modules\n",
    "%matplotlib inline\n",
    "import tensorflow as tf\n",
    "import numpy as np\n",
    "import scipy as sp\n",
    "from scipy import io\n",
    "from scipy import interpolate\n",
    "from scipy import ndimage\n",
    "import os\n",
    "import matplotlib.pyplot as plt"
   ]
  },
  {
   "cell_type": "code",
   "execution_count": null,
   "metadata": {},
   "outputs": [],
   "source": [
    "#Import the data in os indpendent manner\n",
    "home = os.path.expanduser(\"~\")\n",
    "path_args = [home, 'turing', 'overflow-storage']\n",
    "base_dir = os.path.join(*path_args)\n",
    "h5_lf_vis_file_loc = os.path.join(base_dir, 'lfvishead.h5')\n",
    "mri_head_vol_file_loc = os.path.join(base_dir, 'lfvis_mri_head_vol.npy')"
   ]
  }
 ],
 "metadata": {
  "kernelspec": {
   "display_name": "tf",
   "language": "python",
   "name": "tf"
  },
  "language_info": {
   "codemirror_mode": {
    "name": "ipython",
    "version": 3
   },
   "file_extension": ".py",
   "mimetype": "text/x-python",
   "name": "python",
   "nbconvert_exporter": "python",
   "pygments_lexer": "ipython3",
   "version": "3.5.2"
  }
 },
 "nbformat": 4,
 "nbformat_minor": 2
}
