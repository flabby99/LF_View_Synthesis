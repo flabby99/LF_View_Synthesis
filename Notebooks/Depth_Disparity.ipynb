{
 "cells": [
  {
   "cell_type": "markdown",
   "metadata": {
    "deletable": true,
    "editable": true
   },
   "source": [
    "# This is for disparity from depth maps\n",
    "There is a few different options for opening the images, ranging from PIL, pillow, OpenCV to matplotlib"
   ]
  },
  {
   "cell_type": "code",
   "execution_count": 1,
   "metadata": {
    "collapsed": false,
    "deletable": true,
    "editable": true
   },
   "outputs": [
    {
     "name": "stdout",
     "output_type": "stream",
     "text": [
      "Populating the interactive namespace from numpy and matplotlib\n"
     ]
    }
   ],
   "source": [
    "#Import relevant modules\n",
    "import os\n",
    "\n",
    "from PIL import Image\n",
    "%pylab inline\n",
    "import matplotlib.pyplot as plt\n",
    "import matplotlib.image as mpimg\n",
    "import numpy as np"
   ]
  },
  {
   "cell_type": "code",
   "execution_count": 76,
   "metadata": {
    "collapsed": false,
    "deletable": true,
    "editable": true
   },
   "outputs": [
    {
     "data": {
      "text/plain": [
       "<PixelAccess at 0x17946f52d10>"
      ]
     },
     "execution_count": 76,
     "metadata": {},
     "output_type": "execute_result"
    },
    {
     "data": {
      "image/png": "[encoded data removed]",
      "text/plain": [
       "<matplotlib.figure.Figure at 0x17947329f60>"
      ]
     },
     "metadata": {},
     "output_type": "display_data"
    }
   ],
   "source": [
    "#Setup locations\n",
    "base_dir = \"\"\n",
    "file_name = \"depth.png\"\n",
    "image_location = os.path.join(base_dir, file_name)\n",
    "\n",
    "#Note that these seem to produce rather different results\n",
    "depth = Image.open(image_location)\n",
    "depth.load()\n",
    "data = np.asarray( depth, dtype=\"int32\" )\n",
    "img = mpimg.imread(image_location)\n",
    "imgplot = plt.imshow(img, cmap=plt.cm.gray)"
   ]
  },
  {
   "cell_type": "code",
   "execution_count": 74,
   "metadata": {
    "collapsed": false,
    "deletable": true,
    "editable": true
   },
   "outputs": [
    {
     "data": {
      "text/plain": [
       "PIL.PngImagePlugin.PngImageFile"
      ]
     },
     "execution_count": 74,
     "metadata": {},
     "output_type": "execute_result"
    },
    {
     "data": {
      "text/plain": [
       "numpy.ndarray"
      ]
     },
     "execution_count": 74,
     "metadata": {},
     "output_type": "execute_result"
    },
    {
     "data": {
      "text/plain": [
       "numpy.ndarray"
      ]
     },
     "execution_count": 74,
     "metadata": {},
     "output_type": "execute_result"
    },
    {
     "data": {
      "text/plain": [
       "array([[238, 238, 238, ..., 255, 255, 255],\n",
       "       [238, 238, 238, ..., 255, 255, 255],\n",
       "       [238, 238, 238, ..., 255, 255, 255],\n",
       "       ..., \n",
       "       [255, 255, 255, ..., 255, 255, 255],\n",
       "       [255, 255, 255, ..., 255, 255, 255],\n",
       "       [255, 255, 255, ..., 255, 255, 255]])"
      ]
     },
     "execution_count": 74,
     "metadata": {},
     "output_type": "execute_result"
    },
    {
     "data": {
      "text/plain": [
       "array([[ 0.93333334,  0.93333334,  0.93333334, ...,  1.        ,\n",
       "         1.        ,  1.        ],\n",
       "       [ 0.93333334,  0.93333334,  0.93333334, ...,  1.        ,\n",
       "         1.        ,  1.        ],\n",
       "       [ 0.93333334,  0.93333334,  0.93333334, ...,  1.        ,\n",
       "         1.        ,  1.        ],\n",
       "       ..., \n",
       "       [ 1.        ,  1.        ,  1.        , ...,  1.        ,\n",
       "         1.        ,  1.        ],\n",
       "       [ 1.        ,  1.        ,  1.        , ...,  1.        ,\n",
       "         1.        ,  1.        ],\n",
       "       [ 1.        ,  1.        ,  1.        , ...,  1.        ,\n",
       "         1.        ,  1.        ]], dtype=float32)"
      ]
     },
     "execution_count": 74,
     "metadata": {},
     "output_type": "execute_result"
    },
    {
     "data": {
      "text/plain": [
       "255"
      ]
     },
     "execution_count": 74,
     "metadata": {},
     "output_type": "execute_result"
    },
    {
     "data": {
      "text/plain": [
       "234"
      ]
     },
     "execution_count": 74,
     "metadata": {},
     "output_type": "execute_result"
    },
    {
     "data": {
      "text/plain": [
       "(512, 512)"
      ]
     },
     "execution_count": 74,
     "metadata": {},
     "output_type": "execute_result"
    }
   ],
   "source": [
    "# Experiments\n",
    "type(depth)\n",
    "type(data)\n",
    "type(img)\n",
    "\n",
    "data\n",
    "img\n",
    "data[0][500]\n",
    "data[200][100]\n",
    "img.shape"
   ]
  },
  {
   "cell_type": "code",
   "execution_count": 60,
   "metadata": {
    "collapsed": false
   },
   "outputs": [],
   "source": [
    "def depth_to_disparity(depth_value, baseline, focal_length, shift = 0.0):\n",
    "    \"\"\"\n",
    "    Returns a disparity value from a depth value\n",
    "    \n",
    "    Keyword arguments:\n",
    "    baseline -- the distance between neighbouring cameras in the grid\n",
    "    focal_length -- the depth image capturing camera's focal length\n",
    "    shift -- an optional distance between neighbouring images \n",
    "          -- principal point offsets (default 0.0),\n",
    "          -- note that this is from the HCI paper on their capture process\n",
    "    \"\"\"\n",
    "    disparity = (baseline * focal_length) / depth_value - shift\n",
    "    return disparity"
   ]
  },
  {
   "cell_type": "code",
   "execution_count": 86,
   "metadata": {
    "collapsed": false
   },
   "outputs": [
    {
     "data": {
      "text/plain": [
       "array([[ 1.82142866,  1.82142866,  1.82142866, ...,  1.70000005,\n",
       "         1.70000005,  1.70000005],\n",
       "       [ 1.82142866,  1.82142866,  1.82142866, ...,  1.70000005,\n",
       "         1.70000005,  1.70000005],\n",
       "       [ 1.82142866,  1.82142866,  1.82142866, ...,  1.70000005,\n",
       "         1.70000005,  1.70000005],\n",
       "       ..., \n",
       "       [ 1.70000005,  1.70000005,  1.70000005, ...,  1.70000005,\n",
       "         1.70000005,  1.70000005],\n",
       "       [ 1.70000005,  1.70000005,  1.70000005, ...,  1.70000005,\n",
       "         1.70000005,  1.70000005],\n",
       "       [ 1.70000005,  1.70000005,  1.70000005, ...,  1.70000005,\n",
       "         1.70000005,  1.70000005]], dtype=float32)"
      ]
     },
     "execution_count": 86,
     "metadata": {},
     "output_type": "execute_result"
    },
    {
     "data": {
      "text/plain": [
       "array([[ 0.00714286,  0.00714286,  0.00714286, ...,  0.00666667,\n",
       "         0.00666667,  0.00666667],\n",
       "       [ 0.00714286,  0.00714286,  0.00714286, ...,  0.00666667,\n",
       "         0.00666667,  0.00666667],\n",
       "       [ 0.00714286,  0.00714286,  0.00714286, ...,  0.00666667,\n",
       "         0.00666667,  0.00666667],\n",
       "       ..., \n",
       "       [ 0.00666667,  0.00666667,  0.00666667, ...,  0.00666667,\n",
       "         0.00666667,  0.00666667],\n",
       "       [ 0.00666667,  0.00666667,  0.00666667, ...,  0.00666667,\n",
       "         0.00666667,  0.00666667],\n",
       "       [ 0.00666667,  0.00666667,  0.00666667, ...,  0.00666667,\n",
       "         0.00666667,  0.00666667]])"
      ]
     },
     "execution_count": 86,
     "metadata": {},
     "output_type": "execute_result"
    },
    {
     "data": {
      "image/png": "[encoded data removed]",
      "text/plain": [
       "<matplotlib.figure.Figure at 0x17947facb00>"
      ]
     },
     "metadata": {},
     "output_type": "display_data"
    }
   ],
   "source": [
    "disparity = depth_to_disparity(img, baseline = 1, focal_length = 1.7, shift = 0)\n",
    "disparity2 = depth_to_disparity(data, baseline = 1, focal_length = 1.7, shift = 0)\n",
    "#imgplot = plt.imshow(disparity, cmap=plt.cm.gray)\n",
    "imgplot2 = plt.imshow(disparity2, cmap= plt.cm.gray)\n",
    "disparity\n",
    "disparity2"
   ]
  },
  {
   "cell_type": "code",
   "execution_count": 87,
   "metadata": {
    "collapsed": false
   },
   "outputs": [
    {
     "data": {
      "text/plain": [
       "(array([  0.00000000e+00,   0.00000000e+00,   0.00000000e+00,\n",
       "          0.00000000e+00,   0.00000000e+00,   0.00000000e+00,\n",
       "          0.00000000e+00,   0.00000000e+00,   0.00000000e+00,\n",
       "          0.00000000e+00,   0.00000000e+00,   0.00000000e+00,\n",
       "          0.00000000e+00,   0.00000000e+00,   0.00000000e+00,\n",
       "          0.00000000e+00,   0.00000000e+00,   0.00000000e+00,\n",
       "          0.00000000e+00,   0.00000000e+00,   0.00000000e+00,\n",
       "          0.00000000e+00,   0.00000000e+00,   0.00000000e+00,\n",
       "          0.00000000e+00,   0.00000000e+00,   0.00000000e+00,\n",
       "          0.00000000e+00,   0.00000000e+00,   0.00000000e+00,\n",
       "          0.00000000e+00,   0.00000000e+00,   0.00000000e+00,\n",
       "          0.00000000e+00,   0.00000000e+00,   0.00000000e+00,\n",
       "          0.00000000e+00,   0.00000000e+00,   0.00000000e+00,\n",
       "          0.00000000e+00,   0.00000000e+00,   0.00000000e+00,\n",
       "          0.00000000e+00,   0.00000000e+00,   0.00000000e+00,\n",
       "          0.00000000e+00,   0.00000000e+00,   0.00000000e+00,\n",
       "          0.00000000e+00,   0.00000000e+00,   0.00000000e+00,\n",
       "          0.00000000e+00,   0.00000000e+00,   0.00000000e+00,\n",
       "          0.00000000e+00,   0.00000000e+00,   0.00000000e+00,\n",
       "          0.00000000e+00,   0.00000000e+00,   0.00000000e+00,\n",
       "          0.00000000e+00,   0.00000000e+00,   0.00000000e+00,\n",
       "          0.00000000e+00,   0.00000000e+00,   0.00000000e+00,\n",
       "          0.00000000e+00,   0.00000000e+00,   0.00000000e+00,\n",
       "          0.00000000e+00,   0.00000000e+00,   0.00000000e+00,\n",
       "          0.00000000e+00,   0.00000000e+00,   0.00000000e+00,\n",
       "          0.00000000e+00,   0.00000000e+00,   0.00000000e+00,\n",
       "          0.00000000e+00,   0.00000000e+00,   0.00000000e+00,\n",
       "          0.00000000e+00,   0.00000000e+00,   0.00000000e+00,\n",
       "          0.00000000e+00,   0.00000000e+00,   0.00000000e+00,\n",
       "          0.00000000e+00,   0.00000000e+00,   0.00000000e+00,\n",
       "          0.00000000e+00,   0.00000000e+00,   0.00000000e+00,\n",
       "          0.00000000e+00,   0.00000000e+00,   0.00000000e+00,\n",
       "          0.00000000e+00,   0.00000000e+00,   0.00000000e+00,\n",
       "          0.00000000e+00,   0.00000000e+00,   0.00000000e+00,\n",
       "          0.00000000e+00,   0.00000000e+00,   0.00000000e+00,\n",
       "          0.00000000e+00,   0.00000000e+00,   0.00000000e+00,\n",
       "          0.00000000e+00,   0.00000000e+00,   0.00000000e+00,\n",
       "          0.00000000e+00,   0.00000000e+00,   0.00000000e+00,\n",
       "          0.00000000e+00,   0.00000000e+00,   0.00000000e+00,\n",
       "          0.00000000e+00,   0.00000000e+00,   0.00000000e+00,\n",
       "          0.00000000e+00,   0.00000000e+00,   0.00000000e+00,\n",
       "          0.00000000e+00,   0.00000000e+00,   0.00000000e+00,\n",
       "          0.00000000e+00,   0.00000000e+00,   0.00000000e+00,\n",
       "          0.00000000e+00,   0.00000000e+00,   0.00000000e+00,\n",
       "          0.00000000e+00,   0.00000000e+00,   0.00000000e+00,\n",
       "          0.00000000e+00,   0.00000000e+00,   0.00000000e+00,\n",
       "          0.00000000e+00,   0.00000000e+00,   0.00000000e+00,\n",
       "          0.00000000e+00,   0.00000000e+00,   0.00000000e+00,\n",
       "          0.00000000e+00,   0.00000000e+00,   0.00000000e+00,\n",
       "          0.00000000e+00,   0.00000000e+00,   0.00000000e+00,\n",
       "          0.00000000e+00,   0.00000000e+00,   0.00000000e+00,\n",
       "          0.00000000e+00,   0.00000000e+00,   0.00000000e+00,\n",
       "          0.00000000e+00,   0.00000000e+00,   0.00000000e+00,\n",
       "          0.00000000e+00,   0.00000000e+00,   0.00000000e+00,\n",
       "          0.00000000e+00,   0.00000000e+00,   0.00000000e+00,\n",
       "          0.00000000e+00,   0.00000000e+00,   0.00000000e+00,\n",
       "          0.00000000e+00,   0.00000000e+00,   0.00000000e+00,\n",
       "          0.00000000e+00,   0.00000000e+00,   0.00000000e+00,\n",
       "          0.00000000e+00,   0.00000000e+00,   0.00000000e+00,\n",
       "          0.00000000e+00,   0.00000000e+00,   0.00000000e+00,\n",
       "          0.00000000e+00,   0.00000000e+00,   0.00000000e+00,\n",
       "          0.00000000e+00,   0.00000000e+00,   0.00000000e+00,\n",
       "          0.00000000e+00,   0.00000000e+00,   0.00000000e+00,\n",
       "          0.00000000e+00,   0.00000000e+00,   0.00000000e+00,\n",
       "          0.00000000e+00,   0.00000000e+00,   0.00000000e+00,\n",
       "          0.00000000e+00,   0.00000000e+00,   0.00000000e+00,\n",
       "          0.00000000e+00,   0.00000000e+00,   0.00000000e+00,\n",
       "          0.00000000e+00,   0.00000000e+00,   0.00000000e+00,\n",
       "          0.00000000e+00,   0.00000000e+00,   0.00000000e+00,\n",
       "          0.00000000e+00,   0.00000000e+00,   0.00000000e+00,\n",
       "          0.00000000e+00,   0.00000000e+00,   0.00000000e+00,\n",
       "          0.00000000e+00,   0.00000000e+00,   0.00000000e+00,\n",
       "          0.00000000e+00,   0.00000000e+00,   0.00000000e+00,\n",
       "          0.00000000e+00,   0.00000000e+00,   0.00000000e+00,\n",
       "          0.00000000e+00,   0.00000000e+00,   0.00000000e+00,\n",
       "          0.00000000e+00,   0.00000000e+00,   0.00000000e+00,\n",
       "          0.00000000e+00,   1.81000000e+02,   7.86000000e+02,\n",
       "          2.44600000e+03,   3.78900000e+03,   9.53900000e+03,\n",
       "          2.46490000e+04,   2.98880000e+04,   2.06790000e+04,\n",
       "          1.52090000e+04,   1.58940000e+04,   1.16090000e+04,\n",
       "          9.67400000e+03,   6.75800000e+03,   6.59900000e+03,\n",
       "          3.50100000e+03,   4.99100000e+03,   3.48600000e+03,\n",
       "          1.38700000e+03,   1.50000000e+02,   2.60000000e+01,\n",
       "          4.00000000e+00,   0.00000000e+00,   0.00000000e+00,\n",
       "          0.00000000e+00,   0.00000000e+00,   0.00000000e+00,\n",
       "          9.08990000e+04]),\n",
       " array([   0.        ,    0.99609375,    1.9921875 ,    2.98828125,\n",
       "           3.984375  ,    4.98046875,    5.9765625 ,    6.97265625,\n",
       "           7.96875   ,    8.96484375,    9.9609375 ,   10.95703125,\n",
       "          11.953125  ,   12.94921875,   13.9453125 ,   14.94140625,\n",
       "          15.9375    ,   16.93359375,   17.9296875 ,   18.92578125,\n",
       "          19.921875  ,   20.91796875,   21.9140625 ,   22.91015625,\n",
       "          23.90625   ,   24.90234375,   25.8984375 ,   26.89453125,\n",
       "          27.890625  ,   28.88671875,   29.8828125 ,   30.87890625,\n",
       "          31.875     ,   32.87109375,   33.8671875 ,   34.86328125,\n",
       "          35.859375  ,   36.85546875,   37.8515625 ,   38.84765625,\n",
       "          39.84375   ,   40.83984375,   41.8359375 ,   42.83203125,\n",
       "          43.828125  ,   44.82421875,   45.8203125 ,   46.81640625,\n",
       "          47.8125    ,   48.80859375,   49.8046875 ,   50.80078125,\n",
       "          51.796875  ,   52.79296875,   53.7890625 ,   54.78515625,\n",
       "          55.78125   ,   56.77734375,   57.7734375 ,   58.76953125,\n",
       "          59.765625  ,   60.76171875,   61.7578125 ,   62.75390625,\n",
       "          63.75      ,   64.74609375,   65.7421875 ,   66.73828125,\n",
       "          67.734375  ,   68.73046875,   69.7265625 ,   70.72265625,\n",
       "          71.71875   ,   72.71484375,   73.7109375 ,   74.70703125,\n",
       "          75.703125  ,   76.69921875,   77.6953125 ,   78.69140625,\n",
       "          79.6875    ,   80.68359375,   81.6796875 ,   82.67578125,\n",
       "          83.671875  ,   84.66796875,   85.6640625 ,   86.66015625,\n",
       "          87.65625   ,   88.65234375,   89.6484375 ,   90.64453125,\n",
       "          91.640625  ,   92.63671875,   93.6328125 ,   94.62890625,\n",
       "          95.625     ,   96.62109375,   97.6171875 ,   98.61328125,\n",
       "          99.609375  ,  100.60546875,  101.6015625 ,  102.59765625,\n",
       "         103.59375   ,  104.58984375,  105.5859375 ,  106.58203125,\n",
       "         107.578125  ,  108.57421875,  109.5703125 ,  110.56640625,\n",
       "         111.5625    ,  112.55859375,  113.5546875 ,  114.55078125,\n",
       "         115.546875  ,  116.54296875,  117.5390625 ,  118.53515625,\n",
       "         119.53125   ,  120.52734375,  121.5234375 ,  122.51953125,\n",
       "         123.515625  ,  124.51171875,  125.5078125 ,  126.50390625,\n",
       "         127.5       ,  128.49609375,  129.4921875 ,  130.48828125,\n",
       "         131.484375  ,  132.48046875,  133.4765625 ,  134.47265625,\n",
       "         135.46875   ,  136.46484375,  137.4609375 ,  138.45703125,\n",
       "         139.453125  ,  140.44921875,  141.4453125 ,  142.44140625,\n",
       "         143.4375    ,  144.43359375,  145.4296875 ,  146.42578125,\n",
       "         147.421875  ,  148.41796875,  149.4140625 ,  150.41015625,\n",
       "         151.40625   ,  152.40234375,  153.3984375 ,  154.39453125,\n",
       "         155.390625  ,  156.38671875,  157.3828125 ,  158.37890625,\n",
       "         159.375     ,  160.37109375,  161.3671875 ,  162.36328125,\n",
       "         163.359375  ,  164.35546875,  165.3515625 ,  166.34765625,\n",
       "         167.34375   ,  168.33984375,  169.3359375 ,  170.33203125,\n",
       "         171.328125  ,  172.32421875,  173.3203125 ,  174.31640625,\n",
       "         175.3125    ,  176.30859375,  177.3046875 ,  178.30078125,\n",
       "         179.296875  ,  180.29296875,  181.2890625 ,  182.28515625,\n",
       "         183.28125   ,  184.27734375,  185.2734375 ,  186.26953125,\n",
       "         187.265625  ,  188.26171875,  189.2578125 ,  190.25390625,\n",
       "         191.25      ,  192.24609375,  193.2421875 ,  194.23828125,\n",
       "         195.234375  ,  196.23046875,  197.2265625 ,  198.22265625,\n",
       "         199.21875   ,  200.21484375,  201.2109375 ,  202.20703125,\n",
       "         203.203125  ,  204.19921875,  205.1953125 ,  206.19140625,\n",
       "         207.1875    ,  208.18359375,  209.1796875 ,  210.17578125,\n",
       "         211.171875  ,  212.16796875,  213.1640625 ,  214.16015625,\n",
       "         215.15625   ,  216.15234375,  217.1484375 ,  218.14453125,\n",
       "         219.140625  ,  220.13671875,  221.1328125 ,  222.12890625,\n",
       "         223.125     ,  224.12109375,  225.1171875 ,  226.11328125,\n",
       "         227.109375  ,  228.10546875,  229.1015625 ,  230.09765625,\n",
       "         231.09375   ,  232.08984375,  233.0859375 ,  234.08203125,\n",
       "         235.078125  ,  236.07421875,  237.0703125 ,  238.06640625,\n",
       "         239.0625    ,  240.05859375,  241.0546875 ,  242.05078125,\n",
       "         243.046875  ,  244.04296875,  245.0390625 ,  246.03515625,\n",
       "         247.03125   ,  248.02734375,  249.0234375 ,  250.01953125,\n",
       "         251.015625  ,  252.01171875,  253.0078125 ,  254.00390625,  255.        ]),\n",
       " <a list of 256 Patch objects>)"
      ]
     },
     "execution_count": 87,
     "metadata": {},
     "output_type": "execute_result"
    },
    {
     "data": {
      "image/png": "[encoded data removed]",
      "text/plain": [
       "<matplotlib.figure.Figure at 0x17947f85438>"
      ]
     },
     "metadata": {},
     "output_type": "display_data"
    }
   ],
   "source": [
    "plt.hist(data.ravel(), bins=256, range=(0, 255), fc='k', ec='k')"
   ]
  }
 ],
 "metadata": {
  "kernelspec": {
   "display_name": "Python 3",
   "language": "python",
   "name": "python3"
  },
  "language_info": {
   "codemirror_mode": {
    "name": "ipython",
    "version": 3
   },
   "file_extension": ".py",
   "mimetype": "text/x-python",
   "name": "python",
   "nbconvert_exporter": "python",
   "pygments_lexer": "ipython3",
   "version": "3.6.0"
  }
 },
 "nbformat": 4,
 "nbformat_minor": 2
}
