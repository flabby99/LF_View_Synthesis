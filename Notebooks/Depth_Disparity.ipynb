{
 "cells": [
  {
   "cell_type": "markdown",
   "metadata": {
    "deletable": true,
    "editable": true
   },
   "source": [
    "# This is for disparity from depth maps\n",
    "There is a few different options for opening the images, ranging from PIL, pillow, OpenCV to matplotlib"
   ]
  },
  {
   "cell_type": "code",
   "execution_count": 2,
   "metadata": {
    "collapsed": false,
    "deletable": true,
    "editable": true
   },
   "outputs": [
    {
     "name": "stdout",
     "output_type": "stream",
     "text": [
      "Populating the interactive namespace from numpy and matplotlib\n"
     ]
    }
   ],
   "source": [
    "#Import relevant modules\n",
    "import os\n",
    "\n",
    "from PIL import Image\n",
    "%pylab inline\n",
    "import matplotlib.pyplot as plt\n",
    "import matplotlib.image as mpimg\n",
    "import numpy as np"
   ]
  },
  {
   "cell_type": "code",
   "execution_count": 7,
   "metadata": {
    "collapsed": false,
    "deletable": true,
    "editable": true
   },
   "outputs": [
    {
     "data": {
      "text/plain": [
       "<PixelAccess at 0x269723a78d0>"
      ]
     },
     "execution_count": 7,
     "metadata": {},
     "output_type": "execute_result"
    },
    {
     "data": {
      "image/png": "[encoded data removed]",
      "text/plain": [
       "<matplotlib.figure.Figure at 0x26972255ac8>"
      ]
     },
     "metadata": {},
     "output_type": "display_data"
    }
   ],
   "source": [
    "#Setup locations\n",
    "base_dir = \"\"\n",
    "file_name = \"depth.png\"\n",
    "image_location = os.path.join(base_dir, file_name)\n",
    "\n",
    "#Note that these seem to produce rather different results\n",
    "depth = Image.open(image_location)\n",
    "depth.load()\n",
    "data = np.asarray( depth, dtype= np.uint8 )\n",
    "img = mpimg.imread(image_location)\n",
    "imgplot = plt.imshow(img, cmap=plt.cm.gray)"
   ]
  },
  {
   "cell_type": "code",
   "execution_count": 10,
   "metadata": {
    "collapsed": false,
    "deletable": true,
    "editable": true
   },
   "outputs": [
    {
     "data": {
      "text/plain": [
       "PIL.PngImagePlugin.PngImageFile"
      ]
     },
     "execution_count": 10,
     "metadata": {},
     "output_type": "execute_result"
    },
    {
     "data": {
      "text/plain": [
       "numpy.ndarray"
      ]
     },
     "execution_count": 10,
     "metadata": {},
     "output_type": "execute_result"
    },
    {
     "data": {
      "text/plain": [
       "numpy.ndarray"
      ]
     },
     "execution_count": 10,
     "metadata": {},
     "output_type": "execute_result"
    },
    {
     "data": {
      "text/plain": [
       "array([[238, 238, 238, ..., 255, 255, 255],\n",
       "       [238, 238, 238, ..., 255, 255, 255],\n",
       "       [238, 238, 238, ..., 255, 255, 255],\n",
       "       ..., \n",
       "       [255, 255, 255, ..., 255, 255, 255],\n",
       "       [255, 255, 255, ..., 255, 255, 255],\n",
       "       [255, 255, 255, ..., 255, 255, 255]], dtype=uint8)"
      ]
     },
     "execution_count": 10,
     "metadata": {},
     "output_type": "execute_result"
    },
    {
     "data": {
      "text/plain": [
       "array([[ 238.,  238.,  238., ...,  255.,  255.,  255.],\n",
       "       [ 238.,  238.,  238., ...,  255.,  255.,  255.],\n",
       "       [ 238.,  238.,  238., ...,  255.,  255.,  255.],\n",
       "       ..., \n",
       "       [ 255.,  255.,  255., ...,  255.,  255.,  255.],\n",
       "       [ 255.,  255.,  255., ...,  255.,  255.,  255.],\n",
       "       [ 255.,  255.,  255., ...,  255.,  255.,  255.]], dtype=float32)"
      ]
     },
     "execution_count": 10,
     "metadata": {},
     "output_type": "execute_result"
    },
    {
     "data": {
      "text/plain": [
       "255"
      ]
     },
     "execution_count": 10,
     "metadata": {},
     "output_type": "execute_result"
    },
    {
     "data": {
      "text/plain": [
       "234"
      ]
     },
     "execution_count": 10,
     "metadata": {},
     "output_type": "execute_result"
    },
    {
     "data": {
      "text/plain": [
       "(512, 512)"
      ]
     },
     "execution_count": 10,
     "metadata": {},
     "output_type": "execute_result"
    }
   ],
   "source": [
    "# Experiments\n",
    "type(depth)\n",
    "type(data)\n",
    "type(img)\n",
    "\n",
    "data\n",
    "temp = img * 255\n",
    "temp\n",
    "data[0][500]\n",
    "data[200][100]\n",
    "img.shape"
   ]
  },
  {
   "cell_type": "code",
   "execution_count": 5,
   "metadata": {
    "collapsed": false,
    "deletable": true,
    "editable": true
   },
   "outputs": [],
   "source": [
    "def depth_to_disparity(depth_value, baseline, focal_length, shift = 0.0):\n",
    "    \"\"\"\n",
    "    Returns a disparity value from a depth value\n",
    "    \n",
    "    Keyword arguments:\n",
    "    depth_value -- the input depth\n",
    "    baseline -- the distance between neighbouring cameras in the grid\n",
    "    focal_length -- the depth image capturing camera's focal length\n",
    "    shift -- an optional distance between neighbouring images \n",
    "          -- principal point offsets (default 0.0),\n",
    "          -- note that this is from the HCI paper on their capture process\n",
    "    \"\"\"\n",
    "    disparity = (baseline * focal_length) / depth_value - shift\n",
    "    return disparity"
   ]
  },
  {
   "cell_type": "code",
   "execution_count": 13,
   "metadata": {
    "collapsed": true,
    "deletable": true,
    "editable": true
   },
   "outputs": [],
   "source": [
    "def depth_buffer_to_eye(buffer_depth, near, far):\n",
    "    \"\"\"\n",
    "    Returns eye space depth from a [0,1] depth buffer value.\n",
    "    First converts the buffer value to NDC in [-1, 1].\n",
    "    Then inverts the perspective projection to give eye space depth.\n",
    "    \n",
    "    Keyword arguments:\n",
    "    buffer_depth -- the input depth buffer value\n",
    "    near -- the depth of the near plane (positive)\n",
    "    far -- the depth of the far plane (positive)\n",
    "    \"\"\"\n",
    "    ndc_depth = 2.0 * buffer_depth - 1.0\n",
    "    eye_depth = 2.0 * near * far / (near + far - ndc_depth * (far - near))\n",
    "    return eye_depth"
   ]
  },
  {
   "cell_type": "code",
   "execution_count": 15,
   "metadata": {
    "collapsed": false,
    "deletable": true,
    "editable": true
   },
   "outputs": [
    {
     "data": {
      "text/plain": [
       "array([[ 0.93333334,  0.93333334,  0.93333334, ...,  1.        ,\n",
       "         1.        ,  1.        ],\n",
       "       [ 0.93333334,  0.93333334,  0.93333334, ...,  1.        ,\n",
       "         1.        ,  1.        ],\n",
       "       [ 0.93333334,  0.93333334,  0.93333334, ...,  1.        ,\n",
       "         1.        ,  1.        ],\n",
       "       ..., \n",
       "       [ 1.        ,  1.        ,  1.        , ...,  1.        ,\n",
       "         1.        ,  1.        ],\n",
       "       [ 1.        ,  1.        ,  1.        , ...,  1.        ,\n",
       "         1.        ,  1.        ],\n",
       "       [ 1.        ,  1.        ,  1.        , ...,  1.        ,\n",
       "         1.        ,  1.        ]], dtype=float32)"
      ]
     },
     "execution_count": 15,
     "metadata": {},
     "output_type": "execute_result"
    },
    {
     "data": {
      "text/plain": [
       "array([[   83.02583313,    83.02583313,    83.02583313, ...,\n",
       "         1000.        ,  1000.        ,  1000.        ],\n",
       "       [   83.02583313,    83.02583313,    83.02583313, ...,\n",
       "         1000.        ,  1000.        ,  1000.        ],\n",
       "       [   83.02583313,    83.02583313,    83.02583313, ...,\n",
       "         1000.        ,  1000.        ,  1000.        ],\n",
       "       ..., \n",
       "       [ 1000.        ,  1000.        ,  1000.        , ...,\n",
       "         1000.        ,  1000.        ,  1000.        ],\n",
       "       [ 1000.        ,  1000.        ,  1000.        , ...,\n",
       "         1000.        ,  1000.        ,  1000.        ],\n",
       "       [ 1000.        ,  1000.        ,  1000.        , ...,\n",
       "         1000.        ,  1000.        ,  1000.        ]], dtype=float32)"
      ]
     },
     "execution_count": 15,
     "metadata": {},
     "output_type": "execute_result"
    },
    {
     "data": {
      "text/plain": [
       "array([[ 0.02047556,  0.02047556,  0.02047556, ...,  0.0017    ,\n",
       "         0.0017    ,  0.0017    ],\n",
       "       [ 0.02047556,  0.02047556,  0.02047556, ...,  0.0017    ,\n",
       "         0.0017    ,  0.0017    ],\n",
       "       [ 0.02047556,  0.02047556,  0.02047556, ...,  0.0017    ,\n",
       "         0.0017    ,  0.0017    ],\n",
       "       ..., \n",
       "       [ 0.0017    ,  0.0017    ,  0.0017    , ...,  0.0017    ,\n",
       "         0.0017    ,  0.0017    ],\n",
       "       [ 0.0017    ,  0.0017    ,  0.0017    , ...,  0.0017    ,\n",
       "         0.0017    ,  0.0017    ],\n",
       "       [ 0.0017    ,  0.0017    ,  0.0017    , ...,  0.0017    ,\n",
       "         0.0017    ,  0.0017    ]], dtype=float32)"
      ]
     },
     "execution_count": 15,
     "metadata": {},
     "output_type": "execute_result"
    },
    {
     "data": {
      "text/plain": [
       "array([[ 0.00714286,  0.00714286,  0.00714286, ...,  0.00666667,\n",
       "         0.00666667,  0.00666667],\n",
       "       [ 0.00714286,  0.00714286,  0.00714286, ...,  0.00666667,\n",
       "         0.00666667,  0.00666667],\n",
       "       [ 0.00714286,  0.00714286,  0.00714286, ...,  0.00666667,\n",
       "         0.00666667,  0.00666667],\n",
       "       ..., \n",
       "       [ 0.00666667,  0.00666667,  0.00666667, ...,  0.00666667,\n",
       "         0.00666667,  0.00666667],\n",
       "       [ 0.00666667,  0.00666667,  0.00666667, ...,  0.00666667,\n",
       "         0.00666667,  0.00666667],\n",
       "       [ 0.00666667,  0.00666667,  0.00666667, ...,  0.00666667,\n",
       "         0.00666667,  0.00666667]])"
      ]
     },
     "execution_count": 15,
     "metadata": {},
     "output_type": "execute_result"
    },
    {
     "data": {
      "image/png": "[encoded data removed]",
      "text/plain": [
       "<matplotlib.figure.Figure at 0x2a8b8573470>"
      ]
     },
     "metadata": {},
     "output_type": "display_data"
    }
   ],
   "source": [
    "eye_depth = depth_buffer_to_eye(img, 6.0, 1000)\n",
    "disparity = depth_to_disparity(eye_depth, baseline = 1, focal_length = 1.7, shift = 0)\n",
    "disparity2 = depth_to_disparity(data, baseline = 1, focal_length = 1.7, shift = 0)\n",
    "#imgplot = plt.imshow(disparity, cmap=plt.cm.gray)\n",
    "imgplot2 = plt.imshow(disparity, cmap= plt.cm.gray)\n",
    "img\n",
    "eye_depth\n",
    "disparity\n",
    "disparity2"
   ]
  },
  {
   "cell_type": "code",
   "execution_count": 18,
   "metadata": {
    "collapsed": false,
    "deletable": true,
    "editable": true
   },
   "outputs": [
    {
     "data": {
      "text/plain": [
       "(array([  0.00000000e+00,   0.00000000e+00,   0.00000000e+00,\n",
       "          0.00000000e+00,   0.00000000e+00,   0.00000000e+00,\n",
       "          0.00000000e+00,   0.00000000e+00,   0.00000000e+00,\n",
       "          0.00000000e+00,   0.00000000e+00,   0.00000000e+00,\n",
       "          1.81000000e+02,   3.23200000e+03,   3.78900000e+03,\n",
       "          9.53900000e+03,   5.45370000e+04,   2.06790000e+04,\n",
       "          1.52090000e+04,   1.58940000e+04,   0.00000000e+00,\n",
       "          1.16090000e+04,   9.67400000e+03,   6.75800000e+03,\n",
       "          0.00000000e+00,   6.59900000e+03,   0.00000000e+00,\n",
       "          3.50100000e+03,   0.00000000e+00,   0.00000000e+00,\n",
       "          4.99100000e+03,   0.00000000e+00,   3.48600000e+03,\n",
       "          0.00000000e+00,   0.00000000e+00,   0.00000000e+00,\n",
       "          1.38700000e+03,   0.00000000e+00,   0.00000000e+00,\n",
       "          0.00000000e+00,   1.50000000e+02,   0.00000000e+00,\n",
       "          0.00000000e+00,   0.00000000e+00,   2.60000000e+01,\n",
       "          0.00000000e+00,   0.00000000e+00,   0.00000000e+00,\n",
       "          0.00000000e+00,   0.00000000e+00,   0.00000000e+00,\n",
       "          4.00000000e+00,   0.00000000e+00,   0.00000000e+00,\n",
       "          0.00000000e+00,   0.00000000e+00,   0.00000000e+00,\n",
       "          0.00000000e+00,   0.00000000e+00,   0.00000000e+00,\n",
       "          0.00000000e+00,   0.00000000e+00,   0.00000000e+00,\n",
       "          0.00000000e+00,   0.00000000e+00,   0.00000000e+00,\n",
       "          0.00000000e+00,   0.00000000e+00,   0.00000000e+00,\n",
       "          0.00000000e+00,   0.00000000e+00,   0.00000000e+00,\n",
       "          0.00000000e+00,   0.00000000e+00,   0.00000000e+00,\n",
       "          0.00000000e+00,   0.00000000e+00,   0.00000000e+00,\n",
       "          0.00000000e+00,   0.00000000e+00,   0.00000000e+00,\n",
       "          0.00000000e+00,   0.00000000e+00,   0.00000000e+00,\n",
       "          0.00000000e+00,   0.00000000e+00,   0.00000000e+00,\n",
       "          0.00000000e+00,   0.00000000e+00,   0.00000000e+00,\n",
       "          0.00000000e+00,   0.00000000e+00,   0.00000000e+00,\n",
       "          0.00000000e+00,   0.00000000e+00,   0.00000000e+00,\n",
       "          0.00000000e+00,   0.00000000e+00,   0.00000000e+00,\n",
       "          0.00000000e+00,   0.00000000e+00,   0.00000000e+00,\n",
       "          0.00000000e+00,   0.00000000e+00,   0.00000000e+00,\n",
       "          0.00000000e+00,   0.00000000e+00,   0.00000000e+00,\n",
       "          0.00000000e+00,   0.00000000e+00,   0.00000000e+00,\n",
       "          0.00000000e+00,   0.00000000e+00,   0.00000000e+00,\n",
       "          0.00000000e+00,   0.00000000e+00,   0.00000000e+00,\n",
       "          0.00000000e+00,   0.00000000e+00,   0.00000000e+00,\n",
       "          0.00000000e+00,   0.00000000e+00,   0.00000000e+00,\n",
       "          0.00000000e+00,   0.00000000e+00,   0.00000000e+00,\n",
       "          0.00000000e+00,   0.00000000e+00,   0.00000000e+00,\n",
       "          0.00000000e+00,   0.00000000e+00,   0.00000000e+00,\n",
       "          0.00000000e+00,   0.00000000e+00,   0.00000000e+00,\n",
       "          0.00000000e+00,   0.00000000e+00,   0.00000000e+00,\n",
       "          0.00000000e+00,   0.00000000e+00,   0.00000000e+00,\n",
       "          0.00000000e+00,   0.00000000e+00,   0.00000000e+00,\n",
       "          0.00000000e+00,   0.00000000e+00,   0.00000000e+00,\n",
       "          0.00000000e+00,   0.00000000e+00,   0.00000000e+00,\n",
       "          0.00000000e+00,   0.00000000e+00,   0.00000000e+00,\n",
       "          0.00000000e+00,   0.00000000e+00,   0.00000000e+00,\n",
       "          0.00000000e+00,   0.00000000e+00,   0.00000000e+00,\n",
       "          0.00000000e+00,   0.00000000e+00,   0.00000000e+00,\n",
       "          0.00000000e+00,   0.00000000e+00,   0.00000000e+00,\n",
       "          0.00000000e+00,   0.00000000e+00,   0.00000000e+00,\n",
       "          0.00000000e+00,   0.00000000e+00,   0.00000000e+00,\n",
       "          0.00000000e+00,   0.00000000e+00,   0.00000000e+00,\n",
       "          0.00000000e+00,   0.00000000e+00,   0.00000000e+00,\n",
       "          0.00000000e+00,   0.00000000e+00,   0.00000000e+00,\n",
       "          0.00000000e+00,   0.00000000e+00,   0.00000000e+00,\n",
       "          0.00000000e+00,   0.00000000e+00,   0.00000000e+00,\n",
       "          0.00000000e+00,   0.00000000e+00,   0.00000000e+00,\n",
       "          0.00000000e+00,   0.00000000e+00,   0.00000000e+00,\n",
       "          0.00000000e+00,   0.00000000e+00,   0.00000000e+00,\n",
       "          0.00000000e+00,   0.00000000e+00,   0.00000000e+00,\n",
       "          0.00000000e+00,   0.00000000e+00,   0.00000000e+00,\n",
       "          0.00000000e+00,   0.00000000e+00,   0.00000000e+00,\n",
       "          0.00000000e+00,   0.00000000e+00,   0.00000000e+00,\n",
       "          0.00000000e+00,   0.00000000e+00,   0.00000000e+00,\n",
       "          0.00000000e+00,   0.00000000e+00,   0.00000000e+00,\n",
       "          0.00000000e+00,   0.00000000e+00,   0.00000000e+00,\n",
       "          0.00000000e+00,   0.00000000e+00,   0.00000000e+00,\n",
       "          0.00000000e+00,   0.00000000e+00,   0.00000000e+00,\n",
       "          0.00000000e+00,   0.00000000e+00,   0.00000000e+00,\n",
       "          0.00000000e+00,   0.00000000e+00,   0.00000000e+00,\n",
       "          0.00000000e+00,   0.00000000e+00,   0.00000000e+00,\n",
       "          0.00000000e+00,   0.00000000e+00,   0.00000000e+00,\n",
       "          0.00000000e+00,   0.00000000e+00,   0.00000000e+00,\n",
       "          0.00000000e+00,   0.00000000e+00,   0.00000000e+00,\n",
       "          0.00000000e+00,   0.00000000e+00,   0.00000000e+00,\n",
       "          0.00000000e+00,   0.00000000e+00,   0.00000000e+00,\n",
       "          0.00000000e+00,   0.00000000e+00,   0.00000000e+00,\n",
       "          0.00000000e+00,   0.00000000e+00,   0.00000000e+00,\n",
       "          0.00000000e+00,   0.00000000e+00,   0.00000000e+00,\n",
       "          9.08990000e+04]),\n",
       " array([    6.       ,     9.8828125,    13.765625 ,    17.6484375,\n",
       "           21.53125  ,    25.4140625,    29.296875 ,    33.1796875,\n",
       "           37.0625   ,    40.9453125,    44.828125 ,    48.7109375,\n",
       "           52.59375  ,    56.4765625,    60.359375 ,    64.2421875,\n",
       "           68.125    ,    72.0078125,    75.890625 ,    79.7734375,\n",
       "           83.65625  ,    87.5390625,    91.421875 ,    95.3046875,\n",
       "           99.1875   ,   103.0703125,   106.953125 ,   110.8359375,\n",
       "          114.71875  ,   118.6015625,   122.484375 ,   126.3671875,\n",
       "          130.25     ,   134.1328125,   138.015625 ,   141.8984375,\n",
       "          145.78125  ,   149.6640625,   153.546875 ,   157.4296875,\n",
       "          161.3125   ,   165.1953125,   169.078125 ,   172.9609375,\n",
       "          176.84375  ,   180.7265625,   184.609375 ,   188.4921875,\n",
       "          192.375    ,   196.2578125,   200.140625 ,   204.0234375,\n",
       "          207.90625  ,   211.7890625,   215.671875 ,   219.5546875,\n",
       "          223.4375   ,   227.3203125,   231.203125 ,   235.0859375,\n",
       "          238.96875  ,   242.8515625,   246.734375 ,   250.6171875,\n",
       "          254.5      ,   258.3828125,   262.265625 ,   266.1484375,\n",
       "          270.03125  ,   273.9140625,   277.796875 ,   281.6796875,\n",
       "          285.5625   ,   289.4453125,   293.328125 ,   297.2109375,\n",
       "          301.09375  ,   304.9765625,   308.859375 ,   312.7421875,\n",
       "          316.625    ,   320.5078125,   324.390625 ,   328.2734375,\n",
       "          332.15625  ,   336.0390625,   339.921875 ,   343.8046875,\n",
       "          347.6875   ,   351.5703125,   355.453125 ,   359.3359375,\n",
       "          363.21875  ,   367.1015625,   370.984375 ,   374.8671875,\n",
       "          378.75     ,   382.6328125,   386.515625 ,   390.3984375,\n",
       "          394.28125  ,   398.1640625,   402.046875 ,   405.9296875,\n",
       "          409.8125   ,   413.6953125,   417.578125 ,   421.4609375,\n",
       "          425.34375  ,   429.2265625,   433.109375 ,   436.9921875,\n",
       "          440.875    ,   444.7578125,   448.640625 ,   452.5234375,\n",
       "          456.40625  ,   460.2890625,   464.171875 ,   468.0546875,\n",
       "          471.9375   ,   475.8203125,   479.703125 ,   483.5859375,\n",
       "          487.46875  ,   491.3515625,   495.234375 ,   499.1171875,\n",
       "          503.       ,   506.8828125,   510.765625 ,   514.6484375,\n",
       "          518.53125  ,   522.4140625,   526.296875 ,   530.1796875,\n",
       "          534.0625   ,   537.9453125,   541.828125 ,   545.7109375,\n",
       "          549.59375  ,   553.4765625,   557.359375 ,   561.2421875,\n",
       "          565.125    ,   569.0078125,   572.890625 ,   576.7734375,\n",
       "          580.65625  ,   584.5390625,   588.421875 ,   592.3046875,\n",
       "          596.1875   ,   600.0703125,   603.953125 ,   607.8359375,\n",
       "          611.71875  ,   615.6015625,   619.484375 ,   623.3671875,\n",
       "          627.25     ,   631.1328125,   635.015625 ,   638.8984375,\n",
       "          642.78125  ,   646.6640625,   650.546875 ,   654.4296875,\n",
       "          658.3125   ,   662.1953125,   666.078125 ,   669.9609375,\n",
       "          673.84375  ,   677.7265625,   681.609375 ,   685.4921875,\n",
       "          689.375    ,   693.2578125,   697.140625 ,   701.0234375,\n",
       "          704.90625  ,   708.7890625,   712.671875 ,   716.5546875,\n",
       "          720.4375   ,   724.3203125,   728.203125 ,   732.0859375,\n",
       "          735.96875  ,   739.8515625,   743.734375 ,   747.6171875,\n",
       "          751.5      ,   755.3828125,   759.265625 ,   763.1484375,\n",
       "          767.03125  ,   770.9140625,   774.796875 ,   778.6796875,\n",
       "          782.5625   ,   786.4453125,   790.328125 ,   794.2109375,\n",
       "          798.09375  ,   801.9765625,   805.859375 ,   809.7421875,\n",
       "          813.625    ,   817.5078125,   821.390625 ,   825.2734375,\n",
       "          829.15625  ,   833.0390625,   836.921875 ,   840.8046875,\n",
       "          844.6875   ,   848.5703125,   852.453125 ,   856.3359375,\n",
       "          860.21875  ,   864.1015625,   867.984375 ,   871.8671875,\n",
       "          875.75     ,   879.6328125,   883.515625 ,   887.3984375,\n",
       "          891.28125  ,   895.1640625,   899.046875 ,   902.9296875,\n",
       "          906.8125   ,   910.6953125,   914.578125 ,   918.4609375,\n",
       "          922.34375  ,   926.2265625,   930.109375 ,   933.9921875,\n",
       "          937.875    ,   941.7578125,   945.640625 ,   949.5234375,\n",
       "          953.40625  ,   957.2890625,   961.171875 ,   965.0546875,\n",
       "          968.9375   ,   972.8203125,   976.703125 ,   980.5859375,\n",
       "          984.46875  ,   988.3515625,   992.234375 ,   996.1171875,  1000.       ]),\n",
       " <a list of 256 Patch objects>)"
      ]
     },
     "execution_count": 18,
     "metadata": {},
     "output_type": "execute_result"
    },
    {
     "data": {
      "image/png": "[encoded data removed]",
      "text/plain": [
       "<matplotlib.figure.Figure at 0x2a8b855fdd8>"
      ]
     },
     "metadata": {},
     "output_type": "display_data"
    }
   ],
   "source": [
    "plt.hist(eye_depth.ravel(), bins=256, range=(6, 1000), fc='k', ec='k')"
   ]
  }
 ],
 "metadata": {
  "kernelspec": {
   "display_name": "Python 3",
   "language": "python",
   "name": "python3"
  },
  "language_info": {
   "codemirror_mode": {
    "name": "ipython",
    "version": 3
   },
   "file_extension": ".py",
   "mimetype": "text/x-python",
   "name": "python",
   "nbconvert_exporter": "python",
   "pygments_lexer": "ipython3",
   "version": "3.6.0"
  }
 },
 "nbformat": 4,
 "nbformat_minor": 2
}
